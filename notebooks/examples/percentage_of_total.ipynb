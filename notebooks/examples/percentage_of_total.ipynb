{
 "cells": [
  {
   "cell_type": "markdown",
   "metadata": {},
   "source": [
    "Calculating Percentage of Total\n",
    "-------------------------------\n",
    "This chart demonstrates how to use a window transform to display data values\n",
    "as a percentage of total values.\n"
   ]
  },
  {
   "cell_type": "code",
   "execution_count": null,
   "metadata": {},
   "outputs": [],
   "source": [
    "# category: bar charts\n",
    "import altair as alt\n",
    "alt.data_transformers.enable('json')\n",
    "import pandas as pd\n",
    "\n",
    "activities = pd.DataFrame({'Activity': ['Sleeping', 'Eating', 'TV', 'Work', 'Exercise'],\n",
    "                           'Time': [8, 2, 4, 8, 2]})\n",
    "\n",
    "alt.Chart(activities).mark_bar().encode(\n",
    "    alt.X('PercentOfTotal:Q', axis=alt.Axis(format='.0%')),\n",
    "    y='Activity:N'\n",
    ").transform_window(\n",
    "    window=[alt.WindowFieldDef(op='sum', field='Time', **{'as': 'TotalTime'})],\n",
    "    frame=[None, None]\n",
    ").transform_calculate(\n",
    "    PercentOfTotal=\"datum.Time / datum.TotalTime\"\n",
    ")\n"
   ]
  }
 ],
 "metadata": {
  "kernelspec": {
   "display_name": "Python 3",
   "env": {},
   "interrupt_mode": "signal",
   "language": "python",
   "metadata": {},
   "name": "python3"
  },
  "language": "python"
 },
 "nbformat": 4,
 "nbformat_minor": 2
}
