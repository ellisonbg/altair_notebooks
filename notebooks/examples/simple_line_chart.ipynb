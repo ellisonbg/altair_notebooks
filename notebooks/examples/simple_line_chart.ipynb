{
 "cells": [
  {
   "cell_type": "markdown",
   "metadata": {},
   "source": [
    "Simple Line Chart\n",
    "-----------------\n",
    "This chart shows the most basic line chart, made from a dataframe with two\n",
    "columns.\n"
   ]
  },
  {
   "cell_type": "code",
   "execution_count": null,
   "metadata": {},
   "outputs": [],
   "source": [
    "# category: simple charts\n",
    "\n",
    "import altair as alt\n",
    "alt.data_transformers.enable('json')\n",
    "import numpy as np\n",
    "import pandas as pd\n",
    "\n",
    "x = np.arange(100)\n",
    "data = pd.DataFrame({'x': x,\n",
    "                     'sin(x)': np.sin(x / 5)})\n",
    "\n",
    "alt.Chart(data).mark_line().encode(\n",
    "    x='x',\n",
    "    y='sin(x)'\n",
    ")\n"
   ]
  }
 ],
 "metadata": {
  "kernelspec": {
   "display_name": "Python 3",
   "env": {},
   "interrupt_mode": "signal",
   "language": "python",
   "metadata": {},
   "name": "python3"
  },
  "language": "python"
 },
 "nbformat": 4,
 "nbformat_minor": 2
}
