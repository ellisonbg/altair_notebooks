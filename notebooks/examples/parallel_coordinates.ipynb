{
 "cells": [
  {
   "cell_type": "markdown",
   "metadata": {},
   "source": [
    "Parallel Coordinates Example\n",
    "----------------------------\n",
    "A `Parallel Coordinates <https://en.wikipedia.org/wiki/Parallel_coordinates>`_\n",
    "chart is a chart that lets you visualize the individual data points by drawing\n",
    "a single line for each of them.\n",
    "Such a chart can be created in Altair, but requires some data preprocessing\n",
    "to transform the data into a suitable representation.\n",
    "This example shows a parallel coordinates chart with the Iris dataset.\n"
   ]
  },
  {
   "cell_type": "code",
   "execution_count": null,
   "metadata": {},
   "outputs": [],
   "source": [
    "# category: other charts\n",
    "\n",
    "import altair as alt\n",
    "alt.data_transformers.enable('json')\n",
    "from vega_datasets import data\n",
    "\n",
    "iris = data.iris()\n",
    "iris_transformed = iris.reset_index().melt(['species', 'index'])\n",
    "\n",
    "alt.Chart(iris_transformed).mark_line().encode(\n",
    "    x='variable:N',\n",
    "    y='value:Q',\n",
    "    color='species:N',\n",
    "    detail='index:N',\n",
    "    opacity=alt.value(0.5)\n",
    ").properties(width=500)\n"
   ]
  }
 ],
 "metadata": {
  "kernelspec": {
   "display_name": "Python 3",
   "env": {},
   "interrupt_mode": "signal",
   "language": "python",
   "metadata": {},
   "name": "python3"
  },
  "language": "python"
 },
 "nbformat": 4,
 "nbformat_minor": 2
}
