{
 "cells": [
  {
   "cell_type": "markdown",
   "metadata": {},
   "source": [
    "Trail Marker\n",
    "------------\n",
    "The ``trail`` marker is like the ``line`` marker, but it allows properties of\n",
    "the line (such as thickness) to vary along the length of the line.\n",
    "This shows a simple example of the trail mark using stock prices.\n"
   ]
  },
  {
   "cell_type": "code",
   "execution_count": null,
   "metadata": {},
   "outputs": [],
   "source": [
    "# category: other charts\n",
    "import altair as alt\n",
    "alt.data_transformers.enable('json')\n",
    "from vega_datasets import data\n",
    "\n",
    "stocks = data.stocks.url\n",
    "\n",
    "alt.Chart(stocks).mark_trail().encode(\n",
    "    x='date:T',\n",
    "    y='price:Q',\n",
    "    size='price:Q',\n",
    "    color='symbol:N'\n",
    ")\n"
   ]
  }
 ],
 "metadata": {
  "kernelspec": {
   "display_name": "Python 3",
   "env": {},
   "interrupt_mode": "signal",
   "language": "python",
   "metadata": {},
   "name": "python3"
  },
  "language": "python"
 },
 "nbformat": 4,
 "nbformat_minor": 2
}
