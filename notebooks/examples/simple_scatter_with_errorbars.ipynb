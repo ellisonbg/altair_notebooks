{
 "cells": [
  {
   "cell_type": "markdown",
   "metadata": {},
   "source": [
    "Simple Scatter Plot with Errorbars\n",
    "----------------------------------\n",
    "\n",
    "A simple scatter plot of a data set with errorbars.\n",
    "\n"
   ]
  },
  {
   "cell_type": "code",
   "execution_count": null,
   "metadata": {},
   "outputs": [],
   "source": [
    "# category: scatter plots\n",
    "\n",
    "import altair as alt\n",
    "alt.data_transformers.enable('json')\n",
    "\n",
    "import numpy as np\n",
    "import pandas as pd\n",
    "\n",
    "# generate some data points with uncertainties\n",
    "np.random.seed(0)\n",
    "x = [1, 2, 3, 4, 5]\n",
    "y = np.random.normal(10, 0.5, size=len(x))\n",
    "yerr = 0.2\n",
    "\n",
    "# set up data frame\n",
    "data = pd.DataFrame({\"x\":x, \"y\":y, \"yerr\":yerr})\n",
    "\n",
    "# generate the points\n",
    "points = alt.Chart(data).mark_point(filled=True, size=50).encode(\n",
    "    alt.X(\"x\", \n",
    "          scale=alt.Scale(domain=(0,6)),\n",
    "          axis=alt.Axis(title='x')\n",
    "    ),\n",
    "    y=alt.Y('y', \n",
    "            scale=alt.Scale(zero=False, domain=(10, 11)),\n",
    "            axis=alt.Axis(title=\"y\")),\n",
    "    color=alt.value('black')\n",
    ")\n",
    "\n",
    "# generate the error bars\n",
    "errorbars = alt.Chart(data).mark_rule().encode(\n",
    "    x=alt.X(\"x\"),\n",
    "    y=\"ymin:Q\",\n",
    "    y2=\"ymax:Q\"\n",
    ").transform_calculate(\n",
    "    ymin=\"datum.y-datum.yerr\",\n",
    "    ymax=\"datum.y+datum.yerr\"\n",
    ")\n",
    "\n",
    "points + errorbars\n"
   ]
  }
 ],
 "metadata": {
  "kernelspec": {
   "display_name": "Python 3",
   "env": {},
   "interrupt_mode": "signal",
   "language": "python",
   "metadata": {},
   "name": "python3"
  },
  "language": "python"
 },
 "nbformat": 4,
 "nbformat_minor": 2
}
