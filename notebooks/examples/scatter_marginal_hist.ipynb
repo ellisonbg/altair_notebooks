{
 "cells": [
  {
   "cell_type": "markdown",
   "metadata": {},
   "source": [
    "Facetted Scatterplot with marginal histograms\n",
    "---------------------------------------------\n",
    "This example demonstrates how to generate a facetted scatterplot,\n",
    "with marginal facetted histograms, and how to share their respective\n",
    "- x,some y-limits.\n"
   ]
  },
  {
   "cell_type": "code",
   "execution_count": null,
   "metadata": {},
   "outputs": [],
   "source": [
    "# category: other charts\n",
    "\n",
    "import altair as alt\n",
    "alt.data_transformers.enable('json')\n",
    "from vega_datasets import data\n",
    "\n",
    "iris = data.iris()\n",
    "\n",
    "xscale = alt.Scale(domain=(4.0, 8.0))\n",
    "yscale = alt.Scale(domain=(1.9, 4.55))\n",
    "\n",
    "area_args = {'opacity': .3, 'interpolate': 'step'}\n",
    "blank_axis = alt.Axis(title='')\n",
    "\n",
    "points = alt.Chart(iris).mark_circle().encode(\n",
    "    alt.X('sepalLength', scale=xscale),\n",
    "    alt.Y('sepalWidth', scale=yscale),\n",
    "    color='species',\n",
    ")\n",
    "\n",
    "top_hist = alt.Chart(iris).mark_area(**area_args).encode(\n",
    "    alt.X('sepalLength:Q',\n",
    "          # when using bins, the axis scale is set through\n",
    "          # the bin extent, so we do not specify the scale here\n",
    "          # (which would be ignored anyway)\n",
    "          bin=alt.Bin(maxbins=20, extent=xscale.domain),\n",
    "          stack=None,\n",
    "          axis=blank_axis,\n",
    "         ),\n",
    "    alt.Y('count()', stack=None, axis=blank_axis),\n",
    "    alt.Color('species:N'),\n",
    ").properties(height=60)\n",
    "\n",
    "right_hist = alt.Chart(iris).mark_area(**area_args).encode(\n",
    "    alt.Y('sepalWidth:Q',\n",
    "          bin=alt.Bin(maxbins=20, extent=yscale.domain),\n",
    "          stack=None,\n",
    "          axis=blank_axis,\n",
    "         ),\n",
    "    alt.X('count()', stack=None, axis=blank_axis),\n",
    "    alt.Color('species:N'),\n",
    ").properties(width=60)\n",
    "\n",
    "top_hist & (points | right_hist)\n"
   ]
  }
 ],
 "metadata": {
  "kernelspec": {
   "display_name": "Python 3",
   "env": {},
   "interrupt_mode": "signal",
   "language": "python",
   "metadata": {},
   "name": "python3"
  },
  "language": "python"
 },
 "nbformat": 4,
 "nbformat_minor": 2
}
